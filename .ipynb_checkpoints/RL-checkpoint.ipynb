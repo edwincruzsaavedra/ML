{
 "cells": [
  {
   "cell_type": "markdown",
   "id": "a6ef45f5",
   "metadata": {},
   "source": [
    "## Aprendizaje de maquina\n",
    "#### Alumno: Edwin Cruz"
   ]
  },
  {
   "cell_type": "code",
   "execution_count": 2,
   "id": "8b408500",
   "metadata": {},
   "outputs": [],
   "source": [
    "## Regresión logistica en Python"
   ]
  },
  {
   "cell_type": "code",
   "execution_count": 1,
   "id": "841875e7",
   "metadata": {},
   "outputs": [],
   "source": [
    "#!pip install celluloid"
   ]
  },
  {
   "cell_type": "markdown",
   "id": "123bf728",
   "metadata": {},
   "source": [
    "## 1. Adquisición de datos"
   ]
  },
  {
   "cell_type": "code",
   "execution_count": null,
   "id": "52d5e970",
   "metadata": {},
   "outputs": [],
   "source": [
    "import numpy as np\n",
    "import pandas as pd\n",
    "pd.options.mode.chained_assignment = None\n",
    "df = pd.read_excel('bank,xlsx')"
   ]
  },
  {
   "cell_type": "code",
   "execution_count": null,
   "id": "f408a579",
   "metadata": {},
   "outputs": [],
   "source": [
    "df.head()"
   ]
  },
  {
   "cell_type": "code",
   "execution_count": null,
   "id": "f3a27002",
   "metadata": {},
   "outputs": [],
   "source": [
    "df['Segmento'].value_counts()"
   ]
  },
  {
   "cell_type": "markdown",
   "id": "39d18963",
   "metadata": {},
   "source": [
    "## Distribución de los datos"
   ]
  },
  {
   "cell_type": "code",
   "execution_count": null,
   "id": "80f8f9aa",
   "metadata": {},
   "outputs": [],
   "source": [
    "%matplotlib inline\n",
    "import seaborn as sns\n",
    "sns.set()\n",
    "sns.pairplot(df, hue = 'Segmento', height=2)"
   ]
  },
  {
   "cell_type": "markdown",
   "id": "a60ecab6",
   "metadata": {},
   "source": [
    "## Preparación de datos"
   ]
  },
  {
   "cell_type": "code",
   "execution_count": null,
   "id": "710c9a9a",
   "metadata": {},
   "outputs": [],
   "source": [
    "X = df.drop(columns =['Segmento'])\n",
    "y = df[['Segmento']]"
   ]
  },
  {
   "cell_type": "code",
   "execution_count": null,
   "id": "5aaae49e",
   "metadata": {},
   "outputs": [],
   "source": [
    "print(X.shape, y.shape)"
   ]
  },
  {
   "cell_type": "markdown",
   "id": "e0ea1a74",
   "metadata": {},
   "source": [
    "## Valores faltantes"
   ]
  },
  {
   "cell_type": "code",
   "execution_count": null,
   "id": "2afc939c",
   "metadata": {},
   "outputs": [],
   "source": [
    "X.isnull().sum()"
   ]
  },
  {
   "cell_type": "markdown",
   "id": "2f94e0d7",
   "metadata": {},
   "source": [
    "## Variables categoricas"
   ]
  },
  {
   "cell_type": "code",
   "execution_count": null,
   "id": "88ad83c8",
   "metadata": {},
   "outputs": [],
   "source": [
    "y['Segmento'] = y['Segmento'].replace(['Otro','Estandar','Preferente'],0)\n",
    "y['Segmento'] = y['Segmento'].replace(['Premium'],1)\n",
    "y.head()"
   ]
  },
  {
   "cell_type": "code",
   "execution_count": null,
   "id": "e2ce8ab5",
   "metadata": {},
   "outputs": [],
   "source": [
    "from sklearn.preprocessing import StandarScaler\n",
    "sc_X = StandardScaler()\n",
    "X_normalized = sc_X.fit_transform(X)"
   ]
  },
  {
   "cell_type": "markdown",
   "id": "d61ceaf6",
   "metadata": {},
   "source": [
    "## 3. Creación inicial del modelo"
   ]
  },
  {
   "cell_type": "markdown",
   "id": "0232ac7f",
   "metadata": {},
   "source": [
    "### Regresión logística"
   ]
  },
  {
   "cell_type": "code",
   "execution_count": null,
   "id": "e0de555e",
   "metadata": {},
   "outputs": [],
   "source": [
    "from sklearn.linear_model import LogisticRegression\n",
    "lr = LogisticRegression(solver='lbfgs',random_state=0, C = 1e20)\n",
    "lr.fir(X_normalized, y.values.ravel())"
   ]
  },
  {
   "cell_type": "markdown",
   "id": "bc4fb12d",
   "metadata": {},
   "source": [
    "### Accuracy"
   ]
  },
  {
   "cell_type": "code",
   "execution_count": null,
   "id": "dcb9a045",
   "metadata": {},
   "outputs": [],
   "source": [
    "from sklearn.metrics import accuracy_score\n",
    "\n",
    "y_predict = lr.predict(X_normalized)\n",
    "accuracy_score(y, y_predict)"
   ]
  },
  {
   "cell_type": "markdown",
   "id": "11159799",
   "metadata": {},
   "source": [
    "### 4. División de training/test"
   ]
  },
  {
   "cell_type": "code",
   "execution_count": null,
   "id": "6c29f4cb",
   "metadata": {},
   "outputs": [],
   "source": [
    "from sklearn.model_selection import train_test_split\n",
    "X_train, X_test, y_train, y_test = train_test_split(X_normalized, y.valu.random)"
   ]
  },
  {
   "cell_type": "markdown",
   "id": "cd0a9980",
   "metadata": {},
   "source": [
    "## Fit/Predict"
   ]
  },
  {
   "cell_type": "code",
   "execution_count": null,
   "id": "87be84af",
   "metadata": {},
   "outputs": [],
   "source": [
    "lr = LogisticRegresion(solver=\"lbfgs\", randow_state=0, C=1e20)\n",
    "lr.fit(X_train, y_train)"
   ]
  },
  {
   "cell_type": "code",
   "execution_count": null,
   "id": "9eb7b2a3",
   "metadata": {},
   "outputs": [],
   "source": [
    "y_predict = lr.predict(X_test)"
   ]
  },
  {
   "cell_type": "markdown",
   "id": "8f8099c6",
   "metadata": {},
   "source": [
    "### Accuracy"
   ]
  },
  {
   "cell_type": "code",
   "execution_count": null,
   "id": "79b49c55",
   "metadata": {},
   "outputs": [],
   "source": [
    "accuracy-score(y_test, y_predict)"
   ]
  },
  {
   "cell_type": "markdown",
   "id": "27175c33",
   "metadata": {},
   "source": [
    "#### Matriz de confusión"
   ]
  },
  {
   "cell_type": "code",
   "execution_count": null,
   "id": "2c737a82",
   "metadata": {},
   "outputs": [],
   "source": [
    "import sklearn.metrics import plot_confusion_matrix\n",
    "import matplotlib.pyplot as plt\n",
    "plot_confusion_matrix(lr,\n",
    "                     X_test,\n",
    "                     y_test,\n",
    "                     display_labels = ['Primium','No Primium'],\n",
    "                     cmap = plt.cm.Blues)\n",
    "plt.grid(False)"
   ]
  },
  {
   "cell_type": "markdown",
   "id": "6624dd5c",
   "metadata": {},
   "source": [
    "## Metricas de desempeño asociadas a la matriz de confusión"
   ]
  },
  {
   "cell_type": "markdown",
   "id": "b027d4a0",
   "metadata": {},
   "source": [
    "#### Recall"
   ]
  },
  {
   "cell_type": "code",
   "execution_count": null,
   "id": "eb0bddca",
   "metadata": {},
   "outputs": [],
   "source": [
    "from sklearn.metrics import recall_score\n",
    "\n",
    "recall_score(y_test, y_predict, average = 'weighted')"
   ]
  },
  {
   "cell_type": "markdown",
   "id": "1413fc90",
   "metadata": {},
   "source": [
    "#### Precision"
   ]
  },
  {
   "cell_type": "code",
   "execution_count": null,
   "id": "afa6cf5b",
   "metadata": {},
   "outputs": [],
   "source": [
    "from sklearn.metrics import precision_score\n",
    "precision_score(y_test, y_predict, average = 'weighted')"
   ]
  },
  {
   "cell_type": "markdown",
   "id": "ba8fcd5e",
   "metadata": {},
   "source": [
    "#### F1"
   ]
  },
  {
   "cell_type": "code",
   "execution_count": null,
   "id": "8fd6117f",
   "metadata": {},
   "outputs": [],
   "source": [
    "from sklearn.metrics import f1_score\n",
    "\n",
    "f1_score(y_test, y_predict, average = 'weighted')"
   ]
  },
  {
   "cell_type": "markdown",
   "id": "0856bc89",
   "metadata": {},
   "source": [
    "### 5. Validación Cruzada"
   ]
  },
  {
   "cell_type": "code",
   "execution_count": null,
   "id": "e3e18e71",
   "metadata": {},
   "outputs": [],
   "source": [
    "for random_state in range(1,100,10):\n",
    "    X_Train,X_test, y_train, y_test = train_test_split(X_normalized, y_value)\n",
    "    \n",
    "    lr = LogisticRegression(solver=\"lbfgs\", random-state=0, C=1e20)\n",
    "    lr.fit(X_train, y_train)\n",
    "    print('accuracy_score: {}.form(accuracy_score(y_test, lr.predict(X_test))) ')"
   ]
  },
  {
   "cell_type": "code",
   "execution_count": null,
   "id": "94a4a8ee",
   "metadata": {},
   "outputs": [],
   "source": [
    "from sklearn.model_selection import cross_val_Score\n",
    "\n",
    "score = cross_val_score(lr, X_normalized, y.values_ravel(), cv=10)\n",
    "scores_mean()"
   ]
  },
  {
   "cell_type": "code",
   "execution_count": null,
   "id": "81cbe6f9",
   "metadata": {},
   "outputs": [],
   "source": [
    "from sklearn.model_selection import cross_val_score\n",
    "\n",
    "min_folds = 2\n",
    "max_folds = 50\n",
    "mean_scores = []\n",
    "for n in range(min_folds, max_folds):\n",
    "    scores = cross_val_score(lr, X_normalized, y.values.ravel(), cv = n)\n",
    "    mean_scores.append(scores.mean())"
   ]
  },
  {
   "cell_type": "markdown",
   "id": "36949c09",
   "metadata": {},
   "source": [
    "##### Evaluación del accuracy"
   ]
  },
  {
   "cell_type": "code",
   "execution_count": null,
   "id": "11b8dbfe",
   "metadata": {},
   "outputs": [],
   "source": [
    "import matplotlib.pyplot as plt\n",
    "plt.plot(range(min_folds, max_folds), mean_scores)\n",
    "plt.ylim(0.55,0.95)\n",
    "plt.xlabel('folds')\n",
    "plt.ylabel('Mean accuracy')\n",
    "plt.show()"
   ]
  },
  {
   "cell_type": "markdown",
   "id": "714194d8",
   "metadata": {},
   "source": [
    "### 6. Gráficos en 3 dimensiones"
   ]
  },
  {
   "cell_type": "code",
   "execution_count": null,
   "id": "fa0e81d8",
   "metadata": {},
   "outputs": [],
   "source": [
    "df2 = df[0:50]\n",
    "df2['Segmento'] = df2['Segmento'].replace(['Otro','Estandar','Preference'],0)\n",
    "df2['Segmento'] = df2['Segmento'].replace(['Premium'],1)\n",
    "X_train2 = np.array(df2[[\"Cantidad\",\"Volumen_Soles\"]])\n",
    "y_train2 = np.array(df2[[\"Segmento\"]])\n",
    "sc_X = StandardScaler()\n",
    "s_train2 = sc_X.fit_transform(X_train2)"
   ]
  },
  {
   "cell_type": "code",
   "execution_count": null,
   "id": "25a9e28a",
   "metadata": {},
   "outputs": [],
   "source": [
    "len(y_train2)"
   ]
  },
  {
   "cell_type": "code",
   "execution_count": null,
   "id": "f7810133",
   "metadata": {},
   "outputs": [],
   "source": [
    "#Import libraries\n",
    "import numpy as np\n",
    "import matplotlib.pyplot as plt\n",
    "from matplotlib import cm\n",
    "from mpl_toolkits.mplot3d import Axes3D\n",
    "import celluloid\n",
    "from celluloid import Camera\n",
    "from scipy.special import expit\n",
    "from matplotlib import gridspec"
   ]
  },
  {
   "cell_type": "code",
   "execution_count": null,
   "id": "8e856035",
   "metadata": {},
   "outputs": [],
   "source": [
    "# Define logistic regression model:\n",
    "class LogisticRegression(object):\n",
    "    def __init__(self,x,y, lr=0.1):\n",
    "        self.lr = lr\n",
    "        n=x.shape[1]\n",
    "        self.w=np.ones((1,n))*(0)\n",
    "        self.b=0.5\n",
    "        \n",
    "    def predict(self,x):\n",
    "        z=x@selft.w.T + self.b\n",
    "        p=expit(z)\n",
    "        return p\n",
    "    \n",
    "    def cost(self,x,y):\n",
    "        z=x@self.w.T + self.b\n",
    "        p=expit(z)\n",
    "        \n",
    "        #Partial derivatives\n",
    "        dw = np.mean((p-y)*x,axis=0)\n",
    "        db = np.mean(p-y)\n",
    "        self.w = self.w - dw*self.lr\n",
    "        self.b = self.b - db*self.lr\n",
    "        \n",
    "    def fit(self,x,y,numberOfEpochs =100000):\n",
    "        self.AllWeights=np.zeros((numberOfEpochs, x.shape[1]))\n",
    "        self.AllBiases = np.zeros((numerOfEpochs, x.shape[1]))\n",
    "        self.AllCosts = np.zeros((numberOfEpochs, x.shape[1]))\n",
    "        self.All_cl = np.zeros((numberOfEpochs, len(x)))\n",
    "        \n",
    "    for step in range(numberOfEpochs):\n",
    "        self.AllWeights[step]=self.w\n",
    "        self.AllBiases[step]=self.b\n",
    "        self.AllCosts[step]=self.cost(x,y)\n",
    "        self.All_cl[step]=(self.predict(x)).T_flatten()\n",
    "        self.step(x,y)"
   ]
  }
 ],
 "metadata": {
  "kernelspec": {
   "display_name": "Python 3 (ipykernel)",
   "language": "python",
   "name": "python3"
  },
  "language_info": {
   "codemirror_mode": {
    "name": "ipython",
    "version": 3
   },
   "file_extension": ".py",
   "mimetype": "text/x-python",
   "name": "python",
   "nbconvert_exporter": "python",
   "pygments_lexer": "ipython3",
   "version": "3.9.12"
  }
 },
 "nbformat": 4,
 "nbformat_minor": 5
}
